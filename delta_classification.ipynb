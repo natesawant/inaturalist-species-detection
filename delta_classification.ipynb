{
 "cells": [
  {
   "cell_type": "code",
   "execution_count": 133,
   "metadata": {},
   "outputs": [],
   "source": [
    "import pandas as pd"
   ]
  },
  {
   "cell_type": "code",
   "execution_count": 134,
   "metadata": {},
   "outputs": [],
   "source": [
    "efficient_df = pd.read_csv(\"efficient_classification_report.csv\")\n",
    "tranformer_df = pd.read_csv(\"vit_classification_report.csv\")"
   ]
  },
  {
   "cell_type": "code",
   "execution_count": 135,
   "metadata": {},
   "outputs": [
    {
     "data": {
      "text/html": [
       "<div>\n",
       "<style scoped>\n",
       "    .dataframe tbody tr th:only-of-type {\n",
       "        vertical-align: middle;\n",
       "    }\n",
       "\n",
       "    .dataframe tbody tr th {\n",
       "        vertical-align: top;\n",
       "    }\n",
       "\n",
       "    .dataframe thead th {\n",
       "        text-align: right;\n",
       "    }\n",
       "</style>\n",
       "<table border=\"1\" class=\"dataframe\">\n",
       "  <thead>\n",
       "    <tr style=\"text-align: right;\">\n",
       "      <th></th>\n",
       "      <th>precision</th>\n",
       "      <th>recall</th>\n",
       "      <th>f1-score</th>\n",
       "      <th>support</th>\n",
       "    </tr>\n",
       "  </thead>\n",
       "  <tbody>\n",
       "    <tr>\n",
       "      <th>Abudefduf saxatilis</th>\n",
       "      <td>0.15</td>\n",
       "      <td>0.2</td>\n",
       "      <td>0.17</td>\n",
       "      <td>10</td>\n",
       "    </tr>\n",
       "    <tr>\n",
       "      <th>Abudefduf sexfasciatus</th>\n",
       "      <td>0.73</td>\n",
       "      <td>0.8</td>\n",
       "      <td>0.76</td>\n",
       "      <td>10</td>\n",
       "    </tr>\n",
       "    <tr>\n",
       "      <th>Abudefduf troschelii</th>\n",
       "      <td>0.33</td>\n",
       "      <td>0.2</td>\n",
       "      <td>0.25</td>\n",
       "      <td>10</td>\n",
       "    </tr>\n",
       "    <tr>\n",
       "      <th>Abudefduf vaigiensis</th>\n",
       "      <td>0.46</td>\n",
       "      <td>0.6</td>\n",
       "      <td>0.52</td>\n",
       "      <td>10</td>\n",
       "    </tr>\n",
       "    <tr>\n",
       "      <th>Acanthopagrus australis</th>\n",
       "      <td>0.70</td>\n",
       "      <td>0.7</td>\n",
       "      <td>0.70</td>\n",
       "      <td>10</td>\n",
       "    </tr>\n",
       "    <tr>\n",
       "      <th>...</th>\n",
       "      <td>...</td>\n",
       "      <td>...</td>\n",
       "      <td>...</td>\n",
       "      <td>...</td>\n",
       "    </tr>\n",
       "    <tr>\n",
       "      <th>Trygonorrhina fasciata</th>\n",
       "      <td>0.89</td>\n",
       "      <td>0.8</td>\n",
       "      <td>0.84</td>\n",
       "      <td>10</td>\n",
       "    </tr>\n",
       "    <tr>\n",
       "      <th>Upeneichthys lineatus</th>\n",
       "      <td>0.77</td>\n",
       "      <td>1.0</td>\n",
       "      <td>0.87</td>\n",
       "      <td>10</td>\n",
       "    </tr>\n",
       "    <tr>\n",
       "      <th>Urobatis halleri</th>\n",
       "      <td>0.40</td>\n",
       "      <td>0.4</td>\n",
       "      <td>0.40</td>\n",
       "      <td>10</td>\n",
       "    </tr>\n",
       "    <tr>\n",
       "      <th>Zanclus cornutus</th>\n",
       "      <td>0.78</td>\n",
       "      <td>0.7</td>\n",
       "      <td>0.74</td>\n",
       "      <td>10</td>\n",
       "    </tr>\n",
       "    <tr>\n",
       "      <th>Zebrasoma flavescens</th>\n",
       "      <td>0.71</td>\n",
       "      <td>0.5</td>\n",
       "      <td>0.59</td>\n",
       "      <td>10</td>\n",
       "    </tr>\n",
       "  </tbody>\n",
       "</table>\n",
       "<p>199 rows × 4 columns</p>\n",
       "</div>"
      ],
      "text/plain": [
       "                         precision  recall  f1-score  support\n",
       "Abudefduf saxatilis           0.15     0.2      0.17       10\n",
       "Abudefduf sexfasciatus        0.73     0.8      0.76       10\n",
       "Abudefduf troschelii          0.33     0.2      0.25       10\n",
       "Abudefduf vaigiensis          0.46     0.6      0.52       10\n",
       "Acanthopagrus australis       0.70     0.7      0.70       10\n",
       "...                            ...     ...       ...      ...\n",
       "Trygonorrhina fasciata        0.89     0.8      0.84       10\n",
       "Upeneichthys lineatus         0.77     1.0      0.87       10\n",
       "Urobatis halleri              0.40     0.4      0.40       10\n",
       "Zanclus cornutus              0.78     0.7      0.74       10\n",
       "Zebrasoma flavescens          0.71     0.5      0.59       10\n",
       "\n",
       "[199 rows x 4 columns]"
      ]
     },
     "execution_count": 135,
     "metadata": {},
     "output_type": "execute_result"
    }
   ],
   "source": [
    "efficient_df"
   ]
  },
  {
   "cell_type": "code",
   "execution_count": 136,
   "metadata": {},
   "outputs": [
    {
     "data": {
      "text/html": [
       "<div>\n",
       "<style scoped>\n",
       "    .dataframe tbody tr th:only-of-type {\n",
       "        vertical-align: middle;\n",
       "    }\n",
       "\n",
       "    .dataframe tbody tr th {\n",
       "        vertical-align: top;\n",
       "    }\n",
       "\n",
       "    .dataframe thead th {\n",
       "        text-align: right;\n",
       "    }\n",
       "</style>\n",
       "<table border=\"1\" class=\"dataframe\">\n",
       "  <thead>\n",
       "    <tr style=\"text-align: right;\">\n",
       "      <th></th>\n",
       "      <th>precision</th>\n",
       "      <th>recall</th>\n",
       "      <th>f1-score</th>\n",
       "      <th>support</th>\n",
       "    </tr>\n",
       "  </thead>\n",
       "  <tbody>\n",
       "    <tr>\n",
       "      <th>Abudefduf saxatilis</th>\n",
       "      <td>0.18</td>\n",
       "      <td>0.2</td>\n",
       "      <td>0.19</td>\n",
       "      <td>10</td>\n",
       "    </tr>\n",
       "    <tr>\n",
       "      <th>Abudefduf sexfasciatus</th>\n",
       "      <td>0.67</td>\n",
       "      <td>0.8</td>\n",
       "      <td>0.73</td>\n",
       "      <td>10</td>\n",
       "    </tr>\n",
       "    <tr>\n",
       "      <th>Abudefduf troschelii</th>\n",
       "      <td>0.29</td>\n",
       "      <td>0.2</td>\n",
       "      <td>0.24</td>\n",
       "      <td>10</td>\n",
       "    </tr>\n",
       "    <tr>\n",
       "      <th>Abudefduf vaigiensis</th>\n",
       "      <td>0.71</td>\n",
       "      <td>0.5</td>\n",
       "      <td>0.59</td>\n",
       "      <td>10</td>\n",
       "    </tr>\n",
       "    <tr>\n",
       "      <th>Acanthopagrus australis</th>\n",
       "      <td>0.71</td>\n",
       "      <td>0.5</td>\n",
       "      <td>0.59</td>\n",
       "      <td>10</td>\n",
       "    </tr>\n",
       "    <tr>\n",
       "      <th>...</th>\n",
       "      <td>...</td>\n",
       "      <td>...</td>\n",
       "      <td>...</td>\n",
       "      <td>...</td>\n",
       "    </tr>\n",
       "    <tr>\n",
       "      <th>Trygonorrhina fasciata</th>\n",
       "      <td>0.80</td>\n",
       "      <td>0.8</td>\n",
       "      <td>0.80</td>\n",
       "      <td>10</td>\n",
       "    </tr>\n",
       "    <tr>\n",
       "      <th>Upeneichthys lineatus</th>\n",
       "      <td>0.69</td>\n",
       "      <td>0.9</td>\n",
       "      <td>0.78</td>\n",
       "      <td>10</td>\n",
       "    </tr>\n",
       "    <tr>\n",
       "      <th>Urobatis halleri</th>\n",
       "      <td>0.62</td>\n",
       "      <td>0.8</td>\n",
       "      <td>0.70</td>\n",
       "      <td>10</td>\n",
       "    </tr>\n",
       "    <tr>\n",
       "      <th>Zanclus cornutus</th>\n",
       "      <td>0.80</td>\n",
       "      <td>0.8</td>\n",
       "      <td>0.80</td>\n",
       "      <td>10</td>\n",
       "    </tr>\n",
       "    <tr>\n",
       "      <th>Zebrasoma flavescens</th>\n",
       "      <td>0.50</td>\n",
       "      <td>0.2</td>\n",
       "      <td>0.29</td>\n",
       "      <td>10</td>\n",
       "    </tr>\n",
       "  </tbody>\n",
       "</table>\n",
       "<p>199 rows × 4 columns</p>\n",
       "</div>"
      ],
      "text/plain": [
       "                         precision  recall  f1-score  support\n",
       "Abudefduf saxatilis           0.18     0.2      0.19       10\n",
       "Abudefduf sexfasciatus        0.67     0.8      0.73       10\n",
       "Abudefduf troschelii          0.29     0.2      0.24       10\n",
       "Abudefduf vaigiensis          0.71     0.5      0.59       10\n",
       "Acanthopagrus australis       0.71     0.5      0.59       10\n",
       "...                            ...     ...       ...      ...\n",
       "Trygonorrhina fasciata        0.80     0.8      0.80       10\n",
       "Upeneichthys lineatus         0.69     0.9      0.78       10\n",
       "Urobatis halleri              0.62     0.8      0.70       10\n",
       "Zanclus cornutus              0.80     0.8      0.80       10\n",
       "Zebrasoma flavescens          0.50     0.2      0.29       10\n",
       "\n",
       "[199 rows x 4 columns]"
      ]
     },
     "execution_count": 136,
     "metadata": {},
     "output_type": "execute_result"
    }
   ],
   "source": [
    "tranformer_df"
   ]
  },
  {
   "cell_type": "code",
   "execution_count": 137,
   "metadata": {},
   "outputs": [],
   "source": [
    "df = pd.DataFrame()"
   ]
  },
  {
   "cell_type": "code",
   "execution_count": 138,
   "metadata": {},
   "outputs": [],
   "source": [
    "df[\"precision\"] = (efficient_df[\"precision\"] * tranformer_df[\"precision\"])\n",
    "df[\"recall\"] = (efficient_df[\"recall\"] * tranformer_df[\"recall\"])\n",
    "df[\"f1-score\"] = (efficient_df[\"f1-score\"] * tranformer_df[\"f1-score\"])"
   ]
  },
  {
   "cell_type": "code",
   "execution_count": 139,
   "metadata": {},
   "outputs": [
    {
     "data": {
      "text/html": [
       "<div>\n",
       "<style scoped>\n",
       "    .dataframe tbody tr th:only-of-type {\n",
       "        vertical-align: middle;\n",
       "    }\n",
       "\n",
       "    .dataframe tbody tr th {\n",
       "        vertical-align: top;\n",
       "    }\n",
       "\n",
       "    .dataframe thead th {\n",
       "        text-align: right;\n",
       "    }\n",
       "</style>\n",
       "<table border=\"1\" class=\"dataframe\">\n",
       "  <thead>\n",
       "    <tr style=\"text-align: right;\">\n",
       "      <th></th>\n",
       "      <th>precision</th>\n",
       "      <th>recall</th>\n",
       "      <th>f1-score</th>\n",
       "    </tr>\n",
       "  </thead>\n",
       "  <tbody>\n",
       "    <tr>\n",
       "      <th>Mecaenichthys immaculatus</th>\n",
       "      <td>0.8200</td>\n",
       "      <td>0.90</td>\n",
       "      <td>0.8600</td>\n",
       "    </tr>\n",
       "    <tr>\n",
       "      <th>Gymnothorax prasinus</th>\n",
       "      <td>0.9000</td>\n",
       "      <td>0.63</td>\n",
       "      <td>0.7380</td>\n",
       "    </tr>\n",
       "    <tr>\n",
       "      <th>Acanthurus olivaceus</th>\n",
       "      <td>0.7800</td>\n",
       "      <td>0.63</td>\n",
       "      <td>0.7030</td>\n",
       "    </tr>\n",
       "    <tr>\n",
       "      <th>Cirrhitichthys aprinus</th>\n",
       "      <td>0.8900</td>\n",
       "      <td>0.56</td>\n",
       "      <td>0.6888</td>\n",
       "    </tr>\n",
       "    <tr>\n",
       "      <th>Upeneichthys lineatus</th>\n",
       "      <td>0.5313</td>\n",
       "      <td>0.90</td>\n",
       "      <td>0.6786</td>\n",
       "    </tr>\n",
       "    <tr>\n",
       "      <th>...</th>\n",
       "      <td>...</td>\n",
       "      <td>...</td>\n",
       "      <td>...</td>\n",
       "    </tr>\n",
       "    <tr>\n",
       "      <th>Catostomus commersonii</th>\n",
       "      <td>0.0238</td>\n",
       "      <td>0.04</td>\n",
       "      <td>0.0306</td>\n",
       "    </tr>\n",
       "    <tr>\n",
       "      <th>Oreochromis mossambicus</th>\n",
       "      <td>0.0462</td>\n",
       "      <td>0.02</td>\n",
       "      <td>0.0300</td>\n",
       "    </tr>\n",
       "    <tr>\n",
       "      <th>Gasterosteus aculeatus</th>\n",
       "      <td>0.0304</td>\n",
       "      <td>0.03</td>\n",
       "      <td>0.0297</td>\n",
       "    </tr>\n",
       "    <tr>\n",
       "      <th>Oreochromis niloticus</th>\n",
       "      <td>0.0300</td>\n",
       "      <td>0.02</td>\n",
       "      <td>0.0221</td>\n",
       "    </tr>\n",
       "    <tr>\n",
       "      <th>Oncorhynchus mykiss</th>\n",
       "      <td>0.0096</td>\n",
       "      <td>0.02</td>\n",
       "      <td>0.0135</td>\n",
       "    </tr>\n",
       "  </tbody>\n",
       "</table>\n",
       "<p>199 rows × 3 columns</p>\n",
       "</div>"
      ],
      "text/plain": [
       "                           precision  recall  f1-score\n",
       "Mecaenichthys immaculatus     0.8200    0.90    0.8600\n",
       "Gymnothorax prasinus          0.9000    0.63    0.7380\n",
       "Acanthurus olivaceus          0.7800    0.63    0.7030\n",
       "Cirrhitichthys aprinus        0.8900    0.56    0.6888\n",
       "Upeneichthys lineatus         0.5313    0.90    0.6786\n",
       "...                              ...     ...       ...\n",
       "Catostomus commersonii        0.0238    0.04    0.0306\n",
       "Oreochromis mossambicus       0.0462    0.02    0.0300\n",
       "Gasterosteus aculeatus        0.0304    0.03    0.0297\n",
       "Oreochromis niloticus         0.0300    0.02    0.0221\n",
       "Oncorhynchus mykiss           0.0096    0.02    0.0135\n",
       "\n",
       "[199 rows x 3 columns]"
      ]
     },
     "execution_count": 139,
     "metadata": {},
     "output_type": "execute_result"
    }
   ],
   "source": [
    "df.sort_values(by=\"f1-score\", ascending=False)"
   ]
  },
  {
   "cell_type": "code",
   "execution_count": 140,
   "metadata": {},
   "outputs": [
    {
     "data": {
      "text/plain": [
       "Index(['precision', 'recall', 'f1-score', 'support'], dtype='object')"
      ]
     },
     "execution_count": 140,
     "metadata": {},
     "output_type": "execute_result"
    }
   ],
   "source": [
    "efficient_df.columns"
   ]
  },
  {
   "cell_type": "code",
   "execution_count": 141,
   "metadata": {},
   "outputs": [],
   "source": [
    "df[\"precision\"] = (efficient_df[\"precision\"] - tranformer_df[\"precision\"])\n",
    "df[\"recall\"] = (efficient_df[\"recall\"] - tranformer_df[\"recall\"])\n",
    "df[\"f1-score\"] = (efficient_df[\"f1-score\"] - tranformer_df[\"f1-score\"])"
   ]
  },
  {
   "cell_type": "code",
   "execution_count": 142,
   "metadata": {},
   "outputs": [
    {
     "data": {
      "text/html": [
       "<div>\n",
       "<style scoped>\n",
       "    .dataframe tbody tr th:only-of-type {\n",
       "        vertical-align: middle;\n",
       "    }\n",
       "\n",
       "    .dataframe tbody tr th {\n",
       "        vertical-align: top;\n",
       "    }\n",
       "\n",
       "    .dataframe thead th {\n",
       "        text-align: right;\n",
       "    }\n",
       "</style>\n",
       "<table border=\"1\" class=\"dataframe\">\n",
       "  <thead>\n",
       "    <tr style=\"text-align: right;\">\n",
       "      <th></th>\n",
       "      <th>precision</th>\n",
       "      <th>recall</th>\n",
       "      <th>f1-score</th>\n",
       "    </tr>\n",
       "  </thead>\n",
       "  <tbody>\n",
       "    <tr>\n",
       "      <th>Abudefduf saxatilis</th>\n",
       "      <td>-0.03</td>\n",
       "      <td>0.0</td>\n",
       "      <td>-0.02</td>\n",
       "    </tr>\n",
       "    <tr>\n",
       "      <th>Abudefduf sexfasciatus</th>\n",
       "      <td>0.06</td>\n",
       "      <td>0.0</td>\n",
       "      <td>0.03</td>\n",
       "    </tr>\n",
       "    <tr>\n",
       "      <th>Abudefduf troschelii</th>\n",
       "      <td>0.04</td>\n",
       "      <td>0.0</td>\n",
       "      <td>0.01</td>\n",
       "    </tr>\n",
       "    <tr>\n",
       "      <th>Abudefduf vaigiensis</th>\n",
       "      <td>-0.25</td>\n",
       "      <td>0.1</td>\n",
       "      <td>-0.07</td>\n",
       "    </tr>\n",
       "    <tr>\n",
       "      <th>Acanthopagrus australis</th>\n",
       "      <td>-0.01</td>\n",
       "      <td>0.2</td>\n",
       "      <td>0.11</td>\n",
       "    </tr>\n",
       "    <tr>\n",
       "      <th>...</th>\n",
       "      <td>...</td>\n",
       "      <td>...</td>\n",
       "      <td>...</td>\n",
       "    </tr>\n",
       "    <tr>\n",
       "      <th>Trygonorrhina fasciata</th>\n",
       "      <td>0.09</td>\n",
       "      <td>0.0</td>\n",
       "      <td>0.04</td>\n",
       "    </tr>\n",
       "    <tr>\n",
       "      <th>Upeneichthys lineatus</th>\n",
       "      <td>0.08</td>\n",
       "      <td>0.1</td>\n",
       "      <td>0.09</td>\n",
       "    </tr>\n",
       "    <tr>\n",
       "      <th>Urobatis halleri</th>\n",
       "      <td>-0.22</td>\n",
       "      <td>-0.4</td>\n",
       "      <td>-0.30</td>\n",
       "    </tr>\n",
       "    <tr>\n",
       "      <th>Zanclus cornutus</th>\n",
       "      <td>-0.02</td>\n",
       "      <td>-0.1</td>\n",
       "      <td>-0.06</td>\n",
       "    </tr>\n",
       "    <tr>\n",
       "      <th>Zebrasoma flavescens</th>\n",
       "      <td>0.21</td>\n",
       "      <td>0.3</td>\n",
       "      <td>0.30</td>\n",
       "    </tr>\n",
       "  </tbody>\n",
       "</table>\n",
       "<p>199 rows × 3 columns</p>\n",
       "</div>"
      ],
      "text/plain": [
       "                         precision  recall  f1-score\n",
       "Abudefduf saxatilis          -0.03     0.0     -0.02\n",
       "Abudefduf sexfasciatus        0.06     0.0      0.03\n",
       "Abudefduf troschelii          0.04     0.0      0.01\n",
       "Abudefduf vaigiensis         -0.25     0.1     -0.07\n",
       "Acanthopagrus australis      -0.01     0.2      0.11\n",
       "...                            ...     ...       ...\n",
       "Trygonorrhina fasciata        0.09     0.0      0.04\n",
       "Upeneichthys lineatus         0.08     0.1      0.09\n",
       "Urobatis halleri             -0.22    -0.4     -0.30\n",
       "Zanclus cornutus             -0.02    -0.1     -0.06\n",
       "Zebrasoma flavescens          0.21     0.3      0.30\n",
       "\n",
       "[199 rows x 3 columns]"
      ]
     },
     "execution_count": 142,
     "metadata": {},
     "output_type": "execute_result"
    }
   ],
   "source": [
    "df"
   ]
  },
  {
   "cell_type": "code",
   "execution_count": 143,
   "metadata": {},
   "outputs": [
    {
     "data": {
      "text/plain": [
       "<Axes: >"
      ]
     },
     "execution_count": 143,
     "metadata": {},
     "output_type": "execute_result"
    },
    {
     "data": {
      "image/png": "[encoded data removed]",
      "text/plain": [
       "<Figure size 640x480 with 1 Axes>"
      ]
     },
     "metadata": {},
     "output_type": "display_data"
    }
   ],
   "source": [
    "df.sort_values(by=\"f1-score\", ascending=True)[\"f1-score\"].head(n=10).plot(kind=\"bar\", ylim=(-1,0))"
   ]
  },
  {
   "cell_type": "code",
   "execution_count": 144,
   "metadata": {},
   "outputs": [
    {
     "data": {
      "text/plain": [
       "<Axes: >"
      ]
     },
     "execution_count": 144,
     "metadata": {},
     "output_type": "execute_result"
    },
    {
     "data": {
      "image/png": "[encoded data removed]",
      "text/plain": [
       "<Figure size 640x480 with 1 Axes>"
      ]
     },
     "metadata": {},
     "output_type": "display_data"
    }
   ],
   "source": [
    "df.sort_values(by=\"f1-score\", ascending=True)[\"f1-score\"].tail(n=10).plot(kind=\"bar\", ylim=(0,1))"
   ]
  },
  {
   "cell_type": "code",
   "execution_count": 145,
   "metadata": {},
   "outputs": [
    {
     "data": {
      "text/plain": [
       "<Axes: xlabel='Species', ylabel='F1-Score Delta'>"
      ]
     },
     "execution_count": 145,
     "metadata": {},
     "output_type": "execute_result"
    },
    {
     "data": {
      "image/png": "[encoded data removed]",
      "text/plain": [
       "<Figure size 640x480 with 1 Axes>"
      ]
     },
     "metadata": {},
     "output_type": "display_data"
    }
   ],
   "source": [
    "df.abs().sort_values(by=\"f1-score\", ascending=True)[\"f1-score\"].plot(kind=\"bar\", ylim=(-1,1), xticks=[], ylabel=\"F1-Score Delta\", xlabel=\"Species\")"
   ]
  }
 ],
 "metadata": {
  "kernelspec": {
   "display_name": ".venv",
   "language": "python",
   "name": "python3"
  },
  "language_info": {
   "codemirror_mode": {
    "name": "ipython",
    "version": 3
   },
   "file_extension": ".py",
   "mimetype": "text/x-python",
   "name": "python",
   "nbconvert_exporter": "python",
   "pygments_lexer": "ipython3",
   "version": "3.12.3"
  }
 },
 "nbformat": 4,
 "nbformat_minor": 2
}
